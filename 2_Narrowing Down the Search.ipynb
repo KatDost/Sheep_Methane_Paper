{
 "cells": [
  {
   "cell_type": "code",
   "execution_count": 1,
   "id": "954de1d3",
   "metadata": {},
   "outputs": [],
   "source": [
    "from data_preprocessing import *\n",
    "import seaborn as sns\n",
    "import matplotlib.pyplot as plt\n",
    "from matplotlib.colors import ListedColormap, to_rgb\n",
    "\n",
    "from sklearn.cluster import AgglomerativeClustering\n",
    "from scipy.stats import ttest_ind, mannwhitneyu, chi2_contingency\n",
    "from sklearn.metrics import silhouette_score, calinski_harabasz_score, davies_bouldin_score\n",
    "\n",
    "from sklearn import tree\n",
    "from scipy.cluster.hierarchy import linkage, dendrogram, fcluster, set_link_color_palette\n",
    "\n",
    "# ignore FutureWarning\n",
    "import warnings\n",
    "warnings.simplefilter(action='ignore', category=FutureWarning)\n",
    "\n",
    "# plotting settings\n",
    "sns.set_style(\"ticks\", rc={\"font.size\": 11})\n",
    "plt.rcParams.update({\"text.usetex\": True, \"font.family\": \"serif\", \"font.size\": 11})"
   ]
  },
  {
   "cell_type": "markdown",
   "id": "18ec0aa8",
   "metadata": {},
   "source": [
    "# 2. Narrowing Down the Search"
   ]
  },
  {
   "cell_type": "markdown",
   "id": "652d2ea5",
   "metadata": {},
   "source": [
    "### 2.1 Clustering Methane Output"
   ]
  },
  {
   "cell_type": "code",
   "execution_count": 2,
   "id": "f413e5aa",
   "metadata": {},
   "outputs": [
    {
     "data": {
      "image/png": "[encoded data removed]",
      "text/plain": [
       "<Figure size 300x200 with 1 Axes>"
      ]
     },
     "metadata": {},
     "output_type": "display_data"
    }
   ],
   "source": [
    "z = linkage(df_CH4DMI,'ward')\n",
    "\n",
    "sns.set_style(\"ticks\", rc={\"font.size\": 11})\n",
    "plt.rcParams.update({\"text.usetex\": True, \"font.family\": \"serif\", \"font.size\": 11})\n",
    "fig, ax = plt.subplots(1, figsize=(3,2))\n",
    "\n",
    "set_link_color_palette([sns.color_palette(\"BrBG\", 6).as_hex()[5], sns.color_palette(\"BrBG\", 6).as_hex()[0]])\n",
    "dn = dendrogram(z,no_labels=True, above_threshold_color='grey')\n",
    "\n",
    "ax.set_title('Methane Output Clustering')\n",
    "plt.ylabel('Distance')\n",
    "plt.xlabel('Samples')\n",
    "plt.yticks([], [])\n",
    "plt.show()"
   ]
  },
  {
   "cell_type": "code",
   "execution_count": 3,
   "id": "9a994e8b",
   "metadata": {},
   "outputs": [],
   "source": [
    "# write sample-to-cluster mapping to file\n",
    "clusters = fcluster(z, 5, criterion='distance')\n",
    "clusters = np.array(['', 'high', 'low'])[clusters]\n",
    "# df_clusters = pd.DataFrame(np.column_stack((df_CH4DMI.index, clusters)), columns=['Metatranscriptome ID', 'Cluster'])\n",
    "# df_clusters.to_csv('Data/clustering_based_clusters.csv', index=False)"
   ]
  },
  {
   "cell_type": "markdown",
   "id": "1ccb6cb8",
   "metadata": {},
   "source": [
    "### 2.2 Distinguishing low and high methane output using ML"
   ]
  },
  {
   "cell_type": "code",
   "execution_count": 4,
   "id": "bb7ec4e6",
   "metadata": {},
   "outputs": [],
   "source": [
    "# join clusters to data\n",
    "data = df_cpm.join(df_clusters, how='inner')"
   ]
  },
  {
   "cell_type": "markdown",
   "id": "93e40a8f",
   "metadata": {},
   "source": [
    "#### There are multiple contigs that can distinguish perfectly between low and high methane!"
   ]
  },
  {
   "cell_type": "code",
   "execution_count": 5,
   "id": "a4ccde45",
   "metadata": {},
   "outputs": [
    {
     "data": {
      "image/png": "[encoded data removed]",
      "text/plain": [
       "<Figure size 300x300 with 1 Axes>"
      ]
     },
     "metadata": {},
     "output_type": "display_data"
    }
   ],
   "source": [
    "# plot\n",
    "plt.figure(figsize=(3, 3))\n",
    "colors = [sns.color_palette(\"BrBG\", 6).as_hex()[0], sns.color_palette(\"BrBG\", 6).as_hex()[5]]\n",
    "\n",
    "dtree = tree.DecisionTreeClassifier()\n",
    "X, y = data.to_numpy()[:,:-1], data.to_numpy()[:,-1]\n",
    "dtree.fit(X, y)\n",
    "\n",
    "artists = tree.plot_tree(dtree,filled=True, feature_names=list(df_cpm.columns[:-1]), class_names=list(data['Cluster'].unique()),\n",
    "                         impurity=False, rounded=True)\n",
    "\n",
    "for artist, impurity, value in zip(artists, dtree.tree_.impurity, dtree.tree_.value):\n",
    "    # let the max value decide the color; whiten the color depending on impurity (gini)\n",
    "    r, g, b = to_rgb(colors[np.argmax(value)])\n",
    "    f = impurity * 2 # for N colors: f = impurity * N/(N-1) if N>1 else 0\n",
    "    artist.get_bbox_patch().set_facecolor((f + (1-f)*r, f + (1-f)*g, f + (1-f)*b))\n",
    "    artist.get_bbox_patch().set_edgecolor('black')\n",
    "\n",
    "plt.show()"
   ]
  },
  {
   "cell_type": "markdown",
   "id": "5ea1da2e",
   "metadata": {},
   "source": [
    "#### Count these contigs"
   ]
  },
  {
   "cell_type": "code",
   "execution_count": 6,
   "id": "66293e13",
   "metadata": {},
   "outputs": [],
   "source": [
    "# features = list(data.columns)\n",
    "# stump_features = []\n",
    "# last_tree_depth = 1\n",
    "# while last_tree_depth < 2:\n",
    "#     dtree = tree.DecisionTreeClassifier()\n",
    "#     X, y = data[features].to_numpy()[:,:-1], data[features].to_numpy()[:,-1]\n",
    "#     dtree.fit(X, y)\n",
    "#     if (dtree.tree_.max_depth == 1):\n",
    "#         ft1 = features[dtree.tree_.feature[0]]\n",
    "#         stump_features.append(ft1)\n",
    "#         features.remove(ft1)\n",
    "#     else:\n",
    "#         last_tree_depth = dtree.tree_.max_depth"
   ]
  },
  {
   "cell_type": "code",
   "execution_count": 7,
   "id": "ab4e48ba",
   "metadata": {},
   "outputs": [],
   "source": [
    "# file = open('Results/stump_features.txt','w')\n",
    "# for item in stump_features:\n",
    "#     file.write(item+\"\\n\")\n",
    "# file.close()"
   ]
  },
  {
   "cell_type": "code",
   "execution_count": 8,
   "id": "494e6fff",
   "metadata": {},
   "outputs": [
    {
     "data": {
      "text/plain": [
       "348"
      ]
     },
     "execution_count": 8,
     "metadata": {},
     "output_type": "execute_result"
    }
   ],
   "source": [
    "len(list(pd.read_csv('Results/stump_features.txt', header=None)[0]))"
   ]
  },
  {
   "cell_type": "markdown",
   "id": "8266529c",
   "metadata": {},
   "source": [
    "We found 348 contigs that can perfectly distinguish between high and low methane outputs!"
   ]
  },
  {
   "cell_type": "markdown",
   "id": "0e027aed",
   "metadata": {},
   "source": [
    "### 2.3 Finding statistically significant differences in contig distributions among classes\n",
    "\n",
    "Inspired by the above findings, we question if these contigs distinguishing between high and low methane outputs are luck-based or actually statistically significant findings. We run pairwise t-tests for each contig between the corresponding contig counts of samples with high methane output and samples with low methane output."
   ]
  },
  {
   "cell_type": "code",
   "execution_count": 9,
   "id": "a4485548",
   "metadata": {},
   "outputs": [],
   "source": [
    "# # Pairwise T-Tests\n",
    "# #    T-statistic: difference between the sample means divided by the standard error of the difference.\n",
    "# #    P-value: probability of observing the data (or more extreme data) assuming that there is NO significant \n",
    "# #       difference between the two groups.\n",
    "# #       small p-value => observed difference between the groups is unlikely to have occurred by chance alone.\n",
    "\n",
    "# # Separate data into two DataFrames based on class labels\n",
    "# class_0_data = data[data['Cluster'] == 'low']\n",
    "# class_1_data = data[data['Cluster'] == 'high']\n",
    "\n",
    "# # Initialize an empty DataFrame to store the p-values\n",
    "# res = []\n",
    "\n",
    "# # Iterate through columns\n",
    "# for column in data.columns[:-1]:\n",
    "    \n",
    "#     t_stat, p_value = ttest_ind(class_0_data[column], class_1_data[column])\n",
    "    \n",
    "#     # Append the results to the p_values_df\n",
    "#     res.append([column, t_stat, p_value])\n",
    "\n",
    "# # Print or analyze the p-values to determine significance\n",
    "# p_values_df = pd.DataFrame(res, columns=['Contig', 't-statistic', 'p-value'])\n",
    "# p_values_df.to_csv('Data/t-test_differences_per_contig_between_classes.csv', index=False)"
   ]
  },
  {
   "cell_type": "code",
   "execution_count": 11,
   "id": "3cd5aba0",
   "metadata": {},
   "outputs": [],
   "source": [
    "p_values_df = pd.read_csv('Data/t-test_differences_per_contig_between_classes.csv')\n",
    "p_values_df_sorted = p_values_df.sort_values(by=['p-value'], ascending=False)"
   ]
  },
  {
   "cell_type": "code",
   "execution_count": 12,
   "id": "a873dd53",
   "metadata": {},
   "outputs": [],
   "source": [
    "# prepare plot\n",
    "counts = []\n",
    "pvals = p_values_df_sorted['p-value']\n",
    "for val in [0.001, 0.0001, 0.00001, 0.000001]:\n",
    "    counts.append(['p-value $<$ '+str(val), np.sum(pvals < val)])\n",
    "df_counts = pd.DataFrame(counts, columns=['a', 'Contig Count'])"
   ]
  },
  {
   "cell_type": "code",
   "execution_count": 13,
   "id": "e8e3eb25",
   "metadata": {},
   "outputs": [
    {
     "data": {
      "image/png": "[encoded data removed]",
      "text/plain": [
       "<Figure size 400x200 with 1 Axes>"
      ]
     },
     "metadata": {},
     "output_type": "display_data"
    }
   ],
   "source": [
    "# plot\n",
    "fig, ax = plt.subplots(1, figsize=(4,2))\n",
    "sns.barplot(df_counts, x='a', y='Contig Count', ax=ax, color=sns.color_palette(\"BrBG\", 6)[4])\n",
    "ax.set_xticklabels(ax.get_xticklabels(), rotation=345, horizontalalignment='left')\n",
    "ax.set_xlabel('')\n",
    "ax.set_ylabel('Contig Count')\n",
    "ax.bar_label(ax.containers[0])\n",
    "ax.set_ylim([0, 2600])\n",
    "\n",
    "plt.show()"
   ]
  },
  {
   "cell_type": "code",
   "execution_count": null,
   "id": "979f7615",
   "metadata": {},
   "outputs": [],
   "source": []
  }
 ],
 "metadata": {
  "kernelspec": {
   "display_name": "Python 3",
   "language": "python",
   "name": "python3"
  },
  "language_info": {
   "codemirror_mode": {
    "name": "ipython",
    "version": 3
   },
   "file_extension": ".py",
   "mimetype": "text/x-python",
   "name": "python",
   "nbconvert_exporter": "python",
   "pygments_lexer": "ipython3",
   "version": "3.11.5"
  }
 },
 "nbformat": 4,
 "nbformat_minor": 5
}
